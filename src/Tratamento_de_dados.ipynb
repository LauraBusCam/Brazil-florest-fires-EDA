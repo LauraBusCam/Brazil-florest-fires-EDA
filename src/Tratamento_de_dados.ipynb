{
 "cells": [
  {
   "cell_type": "markdown",
   "metadata": {},
   "source": [
    "# Tratamento de dados"
   ]
  },
  {
   "cell_type": "markdown",
   "metadata": {},
   "source": [
    "Projeto de técnicas de programação\n",
    "\n",
    "- Guilherme Araújo Mendes de Souza"
   ]
  },
  {
   "cell_type": "markdown",
   "metadata": {},
   "source": [
    "Bibliotecas"
   ]
  },
  {
   "cell_type": "code",
   "execution_count": 29,
   "metadata": {},
   "outputs": [],
   "source": [
    "import pandas as pd\n",
    "import numpy as np \n",
    "import matplotlib.pyplot as plt\n",
    "import matplotlib.pyplot as plt"
   ]
  },
  {
   "cell_type": "markdown",
   "metadata": {},
   "source": [
    "Sigla dos estados"
   ]
  },
  {
   "cell_type": "code",
   "execution_count": 30,
   "metadata": {},
   "outputs": [],
   "source": [
    "sigla_dos_estados = {\n",
    "    'Acre': 'AC', 'Alagoas': 'AL', 'Amapa': 'AP', 'Amazonas': 'AM', \n",
    "    'Bahia': 'BA', 'Ceara': 'CE', 'Distrito Federal': 'DF', 'Espirito Santo': 'ES', \n",
    "    'Goias': 'GO', 'Maranhao': 'MA', 'Mato Grosso': 'MT', 'Mato Grosso do Sul': 'MS', \n",
    "    'Minas Gerais': 'MG', 'Pará': 'PA', 'Paraiba': 'PB', 'Parana': 'PR', \n",
    "    'Pernambuco': 'PE', 'Piau': 'PI', 'Rio': 'RJ', 'Rio Grande do Norte': 'RN', \n",
    "    'Rio Grande do Sul': 'RS', 'Rondonia': 'RO', 'Roraima': 'RR', 'Santa Catarina': 'SC', \n",
    "    'Sao Paulo': 'SP', 'Sergipe': 'SE', 'Tocantins': 'TO'\n",
    "}"
   ]
  },
  {
   "cell_type": "markdown",
   "metadata": {},
   "source": [
    "Leitura dos dados"
   ]
  },
  {
   "cell_type": "code",
   "execution_count": 31,
   "metadata": {},
   "outputs": [
    {
     "name": "stderr",
     "output_type": "stream",
     "text": [
      "C:\\Users\\guilh\\AppData\\Local\\Temp\\ipykernel_1992\\1351230702.py:2: ParserWarning: Length of header or names does not match length of data. This leads to a loss of data with index_col=False.\n",
      "  df_data_p1 = pd.read_csv('../Data/output_data_part1.csv', sep= ';', index_col= False)\n",
      "C:\\Users\\guilh\\AppData\\Local\\Temp\\ipykernel_1992\\1351230702.py:3: ParserWarning: Length of header or names does not match length of data. This leads to a loss of data with index_col=False.\n",
      "  df_data_p2 = pd.read_csv('../Data/output_data_part2.csv', sep= ';', index_col= False)\n"
     ]
    }
   ],
   "source": [
    "df_amazon = pd.read_csv('../Data/amazon.csv', encoding='ISO-8859-1')\n",
    "df_data_p1 = pd.read_csv('../Data/output_data_part1.csv', sep= ';', index_col= False)\n",
    "df_data_p2 = pd.read_csv('../Data/output_data_part2.csv', sep= ';', index_col= False)"
   ]
  },
  {
   "cell_type": "markdown",
   "metadata": {},
   "source": [
    "Pré-vizualização dos dados"
   ]
  },
  {
   "cell_type": "code",
   "execution_count": 32,
   "metadata": {},
   "outputs": [
    {
     "data": {
      "text/html": [
       "<div>\n",
       "<style scoped>\n",
       "    .dataframe tbody tr th:only-of-type {\n",
       "        vertical-align: middle;\n",
       "    }\n",
       "\n",
       "    .dataframe tbody tr th {\n",
       "        vertical-align: top;\n",
       "    }\n",
       "\n",
       "    .dataframe thead th {\n",
       "        text-align: right;\n",
       "    }\n",
       "</style>\n",
       "<table border=\"1\" class=\"dataframe\">\n",
       "  <thead>\n",
       "    <tr style=\"text-align: right;\">\n",
       "      <th></th>\n",
       "      <th>year</th>\n",
       "      <th>state</th>\n",
       "      <th>month</th>\n",
       "      <th>number</th>\n",
       "      <th>date</th>\n",
       "    </tr>\n",
       "  </thead>\n",
       "  <tbody>\n",
       "    <tr>\n",
       "      <th>0</th>\n",
       "      <td>1998</td>\n",
       "      <td>Acre</td>\n",
       "      <td>Janeiro</td>\n",
       "      <td>0.0</td>\n",
       "      <td>1998-01-01</td>\n",
       "    </tr>\n",
       "    <tr>\n",
       "      <th>1</th>\n",
       "      <td>1999</td>\n",
       "      <td>Acre</td>\n",
       "      <td>Janeiro</td>\n",
       "      <td>0.0</td>\n",
       "      <td>1999-01-01</td>\n",
       "    </tr>\n",
       "    <tr>\n",
       "      <th>2</th>\n",
       "      <td>2000</td>\n",
       "      <td>Acre</td>\n",
       "      <td>Janeiro</td>\n",
       "      <td>0.0</td>\n",
       "      <td>2000-01-01</td>\n",
       "    </tr>\n",
       "    <tr>\n",
       "      <th>3</th>\n",
       "      <td>2001</td>\n",
       "      <td>Acre</td>\n",
       "      <td>Janeiro</td>\n",
       "      <td>0.0</td>\n",
       "      <td>2001-01-01</td>\n",
       "    </tr>\n",
       "    <tr>\n",
       "      <th>4</th>\n",
       "      <td>2002</td>\n",
       "      <td>Acre</td>\n",
       "      <td>Janeiro</td>\n",
       "      <td>0.0</td>\n",
       "      <td>2002-01-01</td>\n",
       "    </tr>\n",
       "  </tbody>\n",
       "</table>\n",
       "</div>"
      ],
      "text/plain": [
       "   year state    month  number        date\n",
       "0  1998  Acre  Janeiro     0.0  1998-01-01\n",
       "1  1999  Acre  Janeiro     0.0  1999-01-01\n",
       "2  2000  Acre  Janeiro     0.0  2000-01-01\n",
       "3  2001  Acre  Janeiro     0.0  2001-01-01\n",
       "4  2002  Acre  Janeiro     0.0  2002-01-01"
      ]
     },
     "execution_count": 32,
     "metadata": {},
     "output_type": "execute_result"
    }
   ],
   "source": [
    "df_amazon.head()"
   ]
  },
  {
   "cell_type": "code",
   "execution_count": 33,
   "metadata": {},
   "outputs": [
    {
     "data": {
      "text/html": [
       "<div>\n",
       "<style scoped>\n",
       "    .dataframe tbody tr th:only-of-type {\n",
       "        vertical-align: middle;\n",
       "    }\n",
       "\n",
       "    .dataframe tbody tr th {\n",
       "        vertical-align: top;\n",
       "    }\n",
       "\n",
       "    .dataframe thead th {\n",
       "        text-align: right;\n",
       "    }\n",
       "</style>\n",
       "<table border=\"1\" class=\"dataframe\">\n",
       "  <thead>\n",
       "    <tr style=\"text-align: right;\">\n",
       "      <th></th>\n",
       "      <th>CodigoOMM</th>\n",
       "      <th>NomeEstacao</th>\n",
       "      <th>Estado</th>\n",
       "      <th>EstadoDesc</th>\n",
       "      <th>EstadoRegiao</th>\n",
       "      <th>Latitude</th>\n",
       "      <th>Longitude</th>\n",
       "      <th>Altitude</th>\n",
       "      <th>EstacaoStituacao</th>\n",
       "      <th>OperanteDesde</th>\n",
       "      <th>...</th>\n",
       "      <th>UmidadeRelativa</th>\n",
       "      <th>PressaoAtmEstacao</th>\n",
       "      <th>PressaoAtmMar</th>\n",
       "      <th>DirecaoVento</th>\n",
       "      <th>VelocidadeVentoInsolacao</th>\n",
       "      <th>Nebulosidade</th>\n",
       "      <th>Evaporacao Piche</th>\n",
       "      <th>Temp Comp Media</th>\n",
       "      <th>Umidade Relativa Media</th>\n",
       "      <th>Velocidade do Vento Media</th>\n",
       "    </tr>\n",
       "  </thead>\n",
       "  <tbody>\n",
       "    <tr>\n",
       "      <th>0</th>\n",
       "      <td>82989</td>\n",
       "      <td>AGUA BRANCA</td>\n",
       "      <td>AL</td>\n",
       "      <td>Alagoas</td>\n",
       "      <td>Nosdeste</td>\n",
       "      <td>-9.28</td>\n",
       "      <td>-37.9</td>\n",
       "      <td>605.34</td>\n",
       "      <td>Estação Operante</td>\n",
       "      <td>05/05/1928</td>\n",
       "      <td>...</td>\n",
       "      <td>91.0</td>\n",
       "      <td>943.6</td>\n",
       "      <td>1010.2</td>\n",
       "      <td>14.0</td>\n",
       "      <td>7.0</td>\n",
       "      <td>11.3</td>\n",
       "      <td>0.0</td>\n",
       "      <td>7.8</td>\n",
       "      <td>25.92</td>\n",
       "      <td>89.0</td>\n",
       "    </tr>\n",
       "    <tr>\n",
       "      <th>1</th>\n",
       "      <td>82989</td>\n",
       "      <td>AGUA BRANCA</td>\n",
       "      <td>AL</td>\n",
       "      <td>Alagoas</td>\n",
       "      <td>Nosdeste</td>\n",
       "      <td>-9.28</td>\n",
       "      <td>-37.9</td>\n",
       "      <td>605.34</td>\n",
       "      <td>Estação Operante</td>\n",
       "      <td>05/05/1928</td>\n",
       "      <td>...</td>\n",
       "      <td>88.0</td>\n",
       "      <td>945.7</td>\n",
       "      <td>1012.3</td>\n",
       "      <td>5.0</td>\n",
       "      <td>5.0</td>\n",
       "      <td>NaN</td>\n",
       "      <td>1.0</td>\n",
       "      <td>NaN</td>\n",
       "      <td>NaN</td>\n",
       "      <td>NaN</td>\n",
       "    </tr>\n",
       "    <tr>\n",
       "      <th>2</th>\n",
       "      <td>82989</td>\n",
       "      <td>AGUA BRANCA</td>\n",
       "      <td>AL</td>\n",
       "      <td>Alagoas</td>\n",
       "      <td>Nosdeste</td>\n",
       "      <td>-9.28</td>\n",
       "      <td>-37.9</td>\n",
       "      <td>605.34</td>\n",
       "      <td>Estação Operante</td>\n",
       "      <td>05/05/1928</td>\n",
       "      <td>...</td>\n",
       "      <td>89.0</td>\n",
       "      <td>943.7</td>\n",
       "      <td>1010.1</td>\n",
       "      <td>14.0</td>\n",
       "      <td>5.0</td>\n",
       "      <td>10.5</td>\n",
       "      <td>0.0</td>\n",
       "      <td>8.4</td>\n",
       "      <td>27.26</td>\n",
       "      <td>87.0</td>\n",
       "    </tr>\n",
       "    <tr>\n",
       "      <th>3</th>\n",
       "      <td>82989</td>\n",
       "      <td>AGUA BRANCA</td>\n",
       "      <td>AL</td>\n",
       "      <td>Alagoas</td>\n",
       "      <td>Nosdeste</td>\n",
       "      <td>-9.28</td>\n",
       "      <td>-37.9</td>\n",
       "      <td>605.34</td>\n",
       "      <td>Estação Operante</td>\n",
       "      <td>05/05/1928</td>\n",
       "      <td>...</td>\n",
       "      <td>82.0</td>\n",
       "      <td>944.5</td>\n",
       "      <td>1010.8</td>\n",
       "      <td>5.0</td>\n",
       "      <td>7.0</td>\n",
       "      <td>NaN</td>\n",
       "      <td>3.0</td>\n",
       "      <td>NaN</td>\n",
       "      <td>NaN</td>\n",
       "      <td>NaN</td>\n",
       "    </tr>\n",
       "    <tr>\n",
       "      <th>4</th>\n",
       "      <td>82989</td>\n",
       "      <td>AGUA BRANCA</td>\n",
       "      <td>AL</td>\n",
       "      <td>Alagoas</td>\n",
       "      <td>Nosdeste</td>\n",
       "      <td>-9.28</td>\n",
       "      <td>-37.9</td>\n",
       "      <td>605.34</td>\n",
       "      <td>Estação Operante</td>\n",
       "      <td>05/05/1928</td>\n",
       "      <td>...</td>\n",
       "      <td>90.0</td>\n",
       "      <td>942.7</td>\n",
       "      <td>1008.7</td>\n",
       "      <td>14.0</td>\n",
       "      <td>5.0</td>\n",
       "      <td>8.9</td>\n",
       "      <td>0.0</td>\n",
       "      <td>10.5</td>\n",
       "      <td>26.68</td>\n",
       "      <td>87.0</td>\n",
       "    </tr>\n",
       "  </tbody>\n",
       "</table>\n",
       "<p>5 rows × 28 columns</p>\n",
       "</div>"
      ],
      "text/plain": [
       "   CodigoOMM  NomeEstacao Estado EstadoDesc EstadoRegiao  Latitude  Longitude  \\\n",
       "0      82989  AGUA BRANCA     AL    Alagoas     Nosdeste     -9.28      -37.9   \n",
       "1      82989  AGUA BRANCA     AL    Alagoas     Nosdeste     -9.28      -37.9   \n",
       "2      82989  AGUA BRANCA     AL    Alagoas     Nosdeste     -9.28      -37.9   \n",
       "3      82989  AGUA BRANCA     AL    Alagoas     Nosdeste     -9.28      -37.9   \n",
       "4      82989  AGUA BRANCA     AL    Alagoas     Nosdeste     -9.28      -37.9   \n",
       "\n",
       "   Altitude  EstacaoStituacao OperanteDesde  ...  UmidadeRelativa  \\\n",
       "0    605.34  Estação Operante    05/05/1928  ...             91.0   \n",
       "1    605.34  Estação Operante    05/05/1928  ...             88.0   \n",
       "2    605.34  Estação Operante    05/05/1928  ...             89.0   \n",
       "3    605.34  Estação Operante    05/05/1928  ...             82.0   \n",
       "4    605.34  Estação Operante    05/05/1928  ...             90.0   \n",
       "\n",
       "  PressaoAtmEstacao  PressaoAtmMar  DirecaoVento  VelocidadeVentoInsolacao  \\\n",
       "0             943.6         1010.2          14.0                       7.0   \n",
       "1             945.7         1012.3           5.0                       5.0   \n",
       "2             943.7         1010.1          14.0                       5.0   \n",
       "3             944.5         1010.8           5.0                       7.0   \n",
       "4             942.7         1008.7          14.0                       5.0   \n",
       "\n",
       "   Nebulosidade  Evaporacao Piche  Temp Comp Media  Umidade Relativa Media  \\\n",
       "0          11.3               0.0              7.8                   25.92   \n",
       "1           NaN               1.0              NaN                     NaN   \n",
       "2          10.5               0.0              8.4                   27.26   \n",
       "3           NaN               3.0              NaN                     NaN   \n",
       "4           8.9               0.0             10.5                   26.68   \n",
       "\n",
       "   Velocidade do Vento Media  \n",
       "0                       89.0  \n",
       "1                        NaN  \n",
       "2                       87.0  \n",
       "3                        NaN  \n",
       "4                       87.0  \n",
       "\n",
       "[5 rows x 28 columns]"
      ]
     },
     "execution_count": 33,
     "metadata": {},
     "output_type": "execute_result"
    }
   ],
   "source": [
    "df_data_p1.head()"
   ]
  },
  {
   "cell_type": "code",
   "execution_count": 34,
   "metadata": {},
   "outputs": [
    {
     "data": {
      "text/html": [
       "<div>\n",
       "<style scoped>\n",
       "    .dataframe tbody tr th:only-of-type {\n",
       "        vertical-align: middle;\n",
       "    }\n",
       "\n",
       "    .dataframe tbody tr th {\n",
       "        vertical-align: top;\n",
       "    }\n",
       "\n",
       "    .dataframe thead th {\n",
       "        text-align: right;\n",
       "    }\n",
       "</style>\n",
       "<table border=\"1\" class=\"dataframe\">\n",
       "  <thead>\n",
       "    <tr style=\"text-align: right;\">\n",
       "      <th></th>\n",
       "      <th>CodigoOMM</th>\n",
       "      <th>NomeEstacao</th>\n",
       "      <th>Estado</th>\n",
       "      <th>EstadoDesc</th>\n",
       "      <th>EstadoRegiao</th>\n",
       "      <th>Latitude</th>\n",
       "      <th>Longitude</th>\n",
       "      <th>Altitude</th>\n",
       "      <th>EstacaoStituacao</th>\n",
       "      <th>OperanteDesde</th>\n",
       "      <th>...</th>\n",
       "      <th>UmidadeRelativa</th>\n",
       "      <th>PressaoAtmEstacao</th>\n",
       "      <th>PressaoAtmMar</th>\n",
       "      <th>DirecaoVento</th>\n",
       "      <th>VelocidadeVentoInsolacao</th>\n",
       "      <th>Nebulosidade</th>\n",
       "      <th>Evaporacao Piche</th>\n",
       "      <th>Temp Comp Media</th>\n",
       "      <th>Umidade Relativa Media</th>\n",
       "      <th>Velocidade do Vento Media</th>\n",
       "    </tr>\n",
       "  </thead>\n",
       "  <tbody>\n",
       "    <tr>\n",
       "      <th>0</th>\n",
       "      <td>82791</td>\n",
       "      <td>PATOS</td>\n",
       "      <td>PB</td>\n",
       "      <td>Paraiba</td>\n",
       "      <td>Nordeste</td>\n",
       "      <td>-7.01</td>\n",
       "      <td>-37.26</td>\n",
       "      <td>249.09</td>\n",
       "      <td>Estação Operante</td>\n",
       "      <td>17/10/1975</td>\n",
       "      <td>...</td>\n",
       "      <td>53.0</td>\n",
       "      <td>981.5</td>\n",
       "      <td>1008.9</td>\n",
       "      <td>9.0</td>\n",
       "      <td>4.8</td>\n",
       "      <td>11.3</td>\n",
       "      <td>0.0</td>\n",
       "      <td>13.0</td>\n",
       "      <td>30.24</td>\n",
       "      <td>51.25</td>\n",
       "    </tr>\n",
       "    <tr>\n",
       "      <th>1</th>\n",
       "      <td>82791</td>\n",
       "      <td>PATOS</td>\n",
       "      <td>PB</td>\n",
       "      <td>Paraiba</td>\n",
       "      <td>Nordeste</td>\n",
       "      <td>-7.01</td>\n",
       "      <td>-37.26</td>\n",
       "      <td>249.09</td>\n",
       "      <td>Estação Operante</td>\n",
       "      <td>17/10/1975</td>\n",
       "      <td>...</td>\n",
       "      <td>56.0</td>\n",
       "      <td>985.3</td>\n",
       "      <td>1012.9</td>\n",
       "      <td>9.0</td>\n",
       "      <td>4.5</td>\n",
       "      <td>NaN</td>\n",
       "      <td>7.0</td>\n",
       "      <td>NaN</td>\n",
       "      <td>NaN</td>\n",
       "      <td>NaN</td>\n",
       "    </tr>\n",
       "    <tr>\n",
       "      <th>2</th>\n",
       "      <td>82791</td>\n",
       "      <td>PATOS</td>\n",
       "      <td>PB</td>\n",
       "      <td>Paraiba</td>\n",
       "      <td>Nordeste</td>\n",
       "      <td>-7.01</td>\n",
       "      <td>-37.26</td>\n",
       "      <td>249.09</td>\n",
       "      <td>Estação Operante</td>\n",
       "      <td>17/10/1975</td>\n",
       "      <td>...</td>\n",
       "      <td>33.0</td>\n",
       "      <td>980.2</td>\n",
       "      <td>1007.6</td>\n",
       "      <td>14.0</td>\n",
       "      <td>3.3</td>\n",
       "      <td>NaN</td>\n",
       "      <td>6.0</td>\n",
       "      <td>NaN</td>\n",
       "      <td>NaN</td>\n",
       "      <td>NaN</td>\n",
       "    </tr>\n",
       "    <tr>\n",
       "      <th>3</th>\n",
       "      <td>82791</td>\n",
       "      <td>PATOS</td>\n",
       "      <td>PB</td>\n",
       "      <td>Paraiba</td>\n",
       "      <td>Nordeste</td>\n",
       "      <td>-7.01</td>\n",
       "      <td>-37.26</td>\n",
       "      <td>249.09</td>\n",
       "      <td>Estação Operante</td>\n",
       "      <td>17/10/1975</td>\n",
       "      <td>...</td>\n",
       "      <td>58.0</td>\n",
       "      <td>982.3</td>\n",
       "      <td>1008.3</td>\n",
       "      <td>5.0</td>\n",
       "      <td>4.8</td>\n",
       "      <td>10.5</td>\n",
       "      <td>9.0</td>\n",
       "      <td>9.1</td>\n",
       "      <td>29.34</td>\n",
       "      <td>56.75</td>\n",
       "    </tr>\n",
       "    <tr>\n",
       "      <th>4</th>\n",
       "      <td>82791</td>\n",
       "      <td>PATOS</td>\n",
       "      <td>PB</td>\n",
       "      <td>Paraiba</td>\n",
       "      <td>Nordeste</td>\n",
       "      <td>-7.01</td>\n",
       "      <td>-37.26</td>\n",
       "      <td>249.09</td>\n",
       "      <td>Estação Operante</td>\n",
       "      <td>17/10/1975</td>\n",
       "      <td>...</td>\n",
       "      <td>60.0</td>\n",
       "      <td>985.0</td>\n",
       "      <td>1012.6</td>\n",
       "      <td>5.0</td>\n",
       "      <td>3.0</td>\n",
       "      <td>NaN</td>\n",
       "      <td>7.0</td>\n",
       "      <td>NaN</td>\n",
       "      <td>NaN</td>\n",
       "      <td>NaN</td>\n",
       "    </tr>\n",
       "  </tbody>\n",
       "</table>\n",
       "<p>5 rows × 28 columns</p>\n",
       "</div>"
      ],
      "text/plain": [
       "   CodigoOMM NomeEstacao Estado EstadoDesc EstadoRegiao  Latitude  Longitude  \\\n",
       "0      82791       PATOS     PB    Paraiba     Nordeste     -7.01     -37.26   \n",
       "1      82791       PATOS     PB    Paraiba     Nordeste     -7.01     -37.26   \n",
       "2      82791       PATOS     PB    Paraiba     Nordeste     -7.01     -37.26   \n",
       "3      82791       PATOS     PB    Paraiba     Nordeste     -7.01     -37.26   \n",
       "4      82791       PATOS     PB    Paraiba     Nordeste     -7.01     -37.26   \n",
       "\n",
       "   Altitude  EstacaoStituacao OperanteDesde  ...  UmidadeRelativa  \\\n",
       "0    249.09  Estação Operante    17/10/1975  ...             53.0   \n",
       "1    249.09  Estação Operante    17/10/1975  ...             56.0   \n",
       "2    249.09  Estação Operante    17/10/1975  ...             33.0   \n",
       "3    249.09  Estação Operante    17/10/1975  ...             58.0   \n",
       "4    249.09  Estação Operante    17/10/1975  ...             60.0   \n",
       "\n",
       "  PressaoAtmEstacao  PressaoAtmMar  DirecaoVento  VelocidadeVentoInsolacao  \\\n",
       "0             981.5         1008.9           9.0                       4.8   \n",
       "1             985.3         1012.9           9.0                       4.5   \n",
       "2             980.2         1007.6          14.0                       3.3   \n",
       "3             982.3         1008.3           5.0                       4.8   \n",
       "4             985.0         1012.6           5.0                       3.0   \n",
       "\n",
       "   Nebulosidade  Evaporacao Piche  Temp Comp Media  Umidade Relativa Media  \\\n",
       "0          11.3               0.0             13.0                   30.24   \n",
       "1           NaN               7.0              NaN                     NaN   \n",
       "2           NaN               6.0              NaN                     NaN   \n",
       "3          10.5               9.0              9.1                   29.34   \n",
       "4           NaN               7.0              NaN                     NaN   \n",
       "\n",
       "   Velocidade do Vento Media  \n",
       "0                      51.25  \n",
       "1                        NaN  \n",
       "2                        NaN  \n",
       "3                      56.75  \n",
       "4                        NaN  \n",
       "\n",
       "[5 rows x 28 columns]"
      ]
     },
     "execution_count": 34,
     "metadata": {},
     "output_type": "execute_result"
    }
   ],
   "source": [
    "df_data_p2.head()"
   ]
  },
  {
   "cell_type": "markdown",
   "metadata": {},
   "source": [
    "Padronização das datas"
   ]
  },
  {
   "cell_type": "code",
   "execution_count": 35,
   "metadata": {},
   "outputs": [],
   "source": [
    "df_data_p1['Data'] = pd.to_datetime(df_data_p2['Data'], format='%d/%m/%Y', errors='coerce')\n",
    "\n",
    "df_data_p2['Data'] = pd.to_datetime(df_data_p2['Data'], format='%d/%m/%Y', errors='coerce')"
   ]
  },
  {
   "cell_type": "code",
   "execution_count": 36,
   "metadata": {},
   "outputs": [],
   "source": [
    "df_amazon['date'] = pd.to_datetime(df_amazon['date'])\n",
    "df_amazon['date'] = pd.to_datetime(df_amazon['date'], format='%d/%m/%Y')"
   ]
  },
  {
   "cell_type": "code",
   "execution_count": 37,
   "metadata": {},
   "outputs": [],
   "source": [
    "df_data_p1['Data'] = pd.to_datetime(df_data_p1['Data'])\n",
    "df_data_p1['Data'] = pd.to_datetime(df_data_p1['Data'], format='%d/%m/%Y')"
   ]
  },
  {
   "cell_type": "code",
   "execution_count": 38,
   "metadata": {},
   "outputs": [],
   "source": [
    "df_data_p2['Data'] = pd.to_datetime(df_data_p2['Data'])\n",
    "df_data_p2['Data'] = pd.to_datetime(df_data_p2['Data'], format='%d/%m/%Y')"
   ]
  },
  {
   "cell_type": "markdown",
   "metadata": {},
   "source": [
    "Filtragem dos DF´s"
   ]
  },
  {
   "cell_type": "code",
   "execution_count": 39,
   "metadata": {},
   "outputs": [],
   "source": [
    "\n",
    "df_amazon = df_amazon[(df_amazon['date'] <= pd.Timestamp(year=2017, month=12, day=31)) & (df_amazon['date'] >= pd.Timestamp(year=2012, month=1, day=1))]\n",
    "\n",
    "df_data_p1 = df_data_p1[(df_data_p1['Data'] <= pd.Timestamp(year=2017, month=12, day=31)) & (df_data_p1['Data'] >= pd.Timestamp(year=2012, month=1, day=1))]\n",
    "\n",
    "df_data_p2 = df_data_p2[(df_data_p2['Data'] <= pd.Timestamp(year=2017, month=12, day=31)) & (df_data_p2['Data'] >= pd.Timestamp(year=2012, month=1, day=1))]"
   ]
  },
  {
   "cell_type": "markdown",
   "metadata": {},
   "source": [
    "Concatenação dos dataframe df_data_p1 e df_data_p2"
   ]
  },
  {
   "cell_type": "code",
   "execution_count": 40,
   "metadata": {},
   "outputs": [],
   "source": [
    "df_data = pd.concat([df_data_p1, df_data_p2], ignore_index=True)"
   ]
  },
  {
   "cell_type": "code",
   "execution_count": 41,
   "metadata": {},
   "outputs": [],
   "source": [
    "filtro = df_data[['Estado', 'EstadoDesc', 'Data', 'Precipitacao', 'TempMaxima', 'TempMinima', 'UmidadeRelativa']]"
   ]
  },
  {
   "cell_type": "code",
   "execution_count": 42,
   "metadata": {},
   "outputs": [],
   "source": [
    "media_mensal = filtro.groupby(['Estado', 'EstadoDesc', pd.Grouper(key='Data', freq='M')]).mean()\n",
    "\n",
    "media_mensal = media_mensal.reset_index()"
   ]
  },
  {
   "cell_type": "markdown",
   "metadata": {},
   "source": [
    "Concatenação dos dataframe media_mensal e df_amazon"
   ]
  },
  {
   "cell_type": "code",
   "execution_count": 43,
   "metadata": {},
   "outputs": [],
   "source": [
    "df_amazon.rename(columns={'state': 'EstadoDesc', 'date': 'Data'}, inplace=True)"
   ]
  },
  {
   "cell_type": "code",
   "execution_count": 44,
   "metadata": {},
   "outputs": [],
   "source": [
    "df_amazon['Data'] = pd.to_datetime(df_amazon['Data'])\n",
    "media_mensal['Data'] = pd.to_datetime(media_mensal['Data'])"
   ]
  },
  {
   "cell_type": "code",
   "execution_count": 45,
   "metadata": {},
   "outputs": [],
   "source": [
    "df_amazon['AnoMes'] = df_amazon['Data'].dt.to_period('M')\n",
    "\n",
    "media_mensal['AnoMes'] = media_mensal['Data'].dt.to_period('M')"
   ]
  },
  {
   "cell_type": "code",
   "execution_count": 50,
   "metadata": {},
   "outputs": [],
   "source": [
    "df_amazon['Estado'] = [sigla_dos_estados[estado] for estado in df_amazon['EstadoDesc']]"
   ]
  },
  {
   "cell_type": "code",
   "execution_count": 51,
   "metadata": {},
   "outputs": [],
   "source": [
    "df = pd.merge(df_amazon, media_mensal, on=['Estado', 'AnoMes'])"
   ]
  },
  {
   "cell_type": "code",
   "execution_count": 53,
   "metadata": {},
   "outputs": [
    {
     "name": "stdout",
     "output_type": "stream",
     "text": [
      "<class 'pandas.core.frame.DataFrame'>\n",
      "RangeIndex: 1776 entries, 0 to 1775\n",
      "Data columns (total 13 columns):\n",
      " #   Column           Non-Null Count  Dtype         \n",
      "---  ------           --------------  -----         \n",
      " 0   year             1776 non-null   int64         \n",
      " 1   EstadoDesc_x     1776 non-null   object        \n",
      " 2   month            1776 non-null   object        \n",
      " 3   number           1776 non-null   float64       \n",
      " 4   Data_x           1776 non-null   datetime64[ns]\n",
      " 5   AnoMes           1776 non-null   period[M]     \n",
      " 6   Estado           1776 non-null   object        \n",
      " 7   EstadoDesc_y     1776 non-null   object        \n",
      " 8   Data_y           1776 non-null   datetime64[ns]\n",
      " 9   Precipitacao     1776 non-null   float64       \n",
      " 10  TempMaxima       1776 non-null   float64       \n",
      " 11  TempMinima       1776 non-null   float64       \n",
      " 12  UmidadeRelativa  1776 non-null   float64       \n",
      "dtypes: datetime64[ns](2), float64(5), int64(1), object(4), period[M](1)\n",
      "memory usage: 180.5+ KB\n"
     ]
    }
   ],
   "source": [
    "df.info()"
   ]
  },
  {
   "cell_type": "code",
   "execution_count": 54,
   "metadata": {},
   "outputs": [],
   "source": [
    "df.drop(['year', 'month', 'Data_x', 'Data_y'], axis=1, inplace=True)"
   ]
  },
  {
   "cell_type": "code",
   "execution_count": 55,
   "metadata": {},
   "outputs": [
    {
     "data": {
      "text/plain": [
       "EstadoDesc_x       0\n",
       "number             0\n",
       "AnoMes             0\n",
       "Estado             0\n",
       "EstadoDesc_y       0\n",
       "Precipitacao       0\n",
       "TempMaxima         0\n",
       "TempMinima         0\n",
       "UmidadeRelativa    0\n",
       "dtype: int64"
      ]
     },
     "execution_count": 55,
     "metadata": {},
     "output_type": "execute_result"
    }
   ],
   "source": [
    "df.isnull().sum()"
   ]
  },
  {
   "cell_type": "code",
   "execution_count": 56,
   "metadata": {},
   "outputs": [],
   "source": [
    "df.to_csv('../Data/Dataset.csv', index=False)"
   ]
  }
 ],
 "metadata": {
  "kernelspec": {
   "display_name": "Python 3",
   "language": "python",
   "name": "python3"
  },
  "language_info": {
   "codemirror_mode": {
    "name": "ipython",
    "version": 3
   },
   "file_extension": ".py",
   "mimetype": "text/x-python",
   "name": "python",
   "nbconvert_exporter": "python",
   "pygments_lexer": "ipython3",
   "version": "3.11.2"
  }
 },
 "nbformat": 4,
 "nbformat_minor": 2
}
